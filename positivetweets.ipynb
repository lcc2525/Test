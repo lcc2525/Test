{
  "nbformat": 4,
  "nbformat_minor": 0,
  "metadata": {
    "colab": {
      "name": "positivetweets.ipynb",
      "version": "0.3.2",
      "provenance": [],
      "collapsed_sections": [],
      "include_colab_link": true
    },
    "kernelspec": {
      "name": "python3",
      "display_name": "Python 3"
    }
  },
  "cells": [
    {
      "cell_type": "markdown",
      "metadata": {
        "id": "view-in-github",
        "colab_type": "text"
      },
      "source": [
        "<a href=\"https://colab.research.google.com/github/lcc2525/Test/blob/master/positivetweets.ipynb\" target=\"_parent\"><img src=\"https://colab.research.google.com/assets/colab-badge.svg\" alt=\"Open In Colab\"/></a>"
      ]
    },
    {
      "cell_type": "code",
      "metadata": {
        "id": "4GchM-7SPx2Y",
        "colab_type": "code",
        "colab": {}
      },
      "source": [
        "# # !pip install tweepy\n",
        "# !pip install textblob\n"
      ],
      "execution_count": 0,
      "outputs": []
    },
    {
      "cell_type": "code",
      "metadata": {
        "id": "hEDw3gcqP3FX",
        "colab_type": "code",
        "colab": {}
      },
      "source": [
        "from textblob import TextBlob, Word, Blobber\n",
        "from textblob.classifiers import NaiveBayesClassifier\n",
        "from textblob.taggers import NLTKTagger"
      ],
      "execution_count": 0,
      "outputs": []
    },
    {
      "cell_type": "code",
      "metadata": {
        "id": "SpXrR5QBP3If",
        "colab_type": "code",
        "colab": {}
      },
      "source": [
        "import re \n",
        "import tweepy \n",
        "from tweepy import OAuthHandler \n",
        "from textblob import TextBlob \n",
        "\n",
        "\n"
      ],
      "execution_count": 0,
      "outputs": []
    },
    {
      "cell_type": "code",
      "metadata": {
        "id": "1R86GoJnP3Lf",
        "colab_type": "code",
        "colab": {}
      },
      "source": [
        "class TwitterClient(object): \n",
        "\t''' \n",
        "\tGeneric Twitter Class for sentiment analysis. \n",
        "\t'''\n",
        "\tdef __init__(self): \n",
        "\t\t''' \n",
        "\t\tClass constructor or initialization method. \n",
        "\t\t'''\n",
        "\n",
        "    \n",
        "\t\t# attempt authentication \n",
        "\t\ttry: \n",
        "\t\t\t# create OAuthHandler object \n",
        "\t\t\tself.auth = OAuthHandler(consumer_key, consumer_secret) \n",
        "\t\t\t# set access token and secret \n",
        "\t\t\tself.auth.set_access_token(access_token, access_token_secret) \n",
        "\t\t\t# create tweepy API object to fetch tweets \n",
        "\t\t\tself.api = tweepy.API(self.auth) \n",
        "\t\texcept: \n",
        "\t\t\tprint(\"Error: Authentication Failed\") \n",
        "\n",
        "\tdef clean_tweet(self, tweet): \n",
        "\t\t''' \n",
        "\t\tUtility function to clean tweet text by removing links, special characters \n",
        "\t\tusing simple regex statements. \n",
        "\t\t'''\n",
        "\t\treturn ' '.join(re.sub(\"(@[A-Za-z0-9]+)|([^0-9A-Za-z \\t])| (\\w+:\\/\\/\\S+)\", \" \", tweet).split()) \n",
        "\n",
        "\tdef get_tweet_sentiment(self, tweet): \n",
        "\t\t''' \n",
        "\t\tUtility function to classify sentiment of passed tweet \n",
        "\t\tusing textblob's sentiment method \n",
        "\t\t'''\n",
        "\t\t# create TextBlob object of passed tweet text \n",
        "\t\tanalysis = TextBlob(self.clean_tweet(tweet)) \n",
        "\t\t# set sentiment \n",
        "\t\tif analysis.sentiment.polarity > 0: \n",
        "\t\t\treturn 'positive'\n",
        "\t\telif analysis.sentiment.polarity == 0: \n",
        "\t\t\treturn 'neutral'\n",
        "\t\telse: \n",
        "\t\t\treturn 'negative'\n",
        "\n",
        "\tdef get_tweets(self, query, count = 10): \n",
        "\t\t''' \n",
        "\t\tMain function to fetch tweets and parse them. \n",
        "\t\t'''\n",
        "\t\t# empty list to store parsed tweets \n",
        "\t\ttweets = [] \n",
        "\n",
        "\t\ttry: \n",
        "\t\t\t# call twitter api to fetch tweets \n",
        "\t\t\tfetched_tweets = self.api.search(q = query, count = count) \n",
        "\t\t\t# parsing tweets one by one \n",
        "\t\t\tfor tweet in fetched_tweets: \n",
        "\t\t\t\t# empty dictionary to store required params of a tweet \n",
        "\t\t\t\tparsed_tweet = {} \n",
        "        \n",
        "        # saving text of tweet \n",
        "\t\t\t\tparsed_tweet['text'] = tweet.text\n",
        "        \n",
        "        # saving sentiment of tweet \n",
        "\t\t\t\tparsed_tweet['sentiment'] = self.get_tweet_sentiment(tweet.text) \n",
        "\n",
        "\t\t\t\t# appending parsed tweet to tweets list \n",
        "\t\t\t\tif tweet.retweet_count > 0: \n",
        "\t\t\t\t\t# if tweet has retweets, ensure that it is appended only once \n",
        "\t\t\t\t\tif parsed_tweet not in tweets: \n",
        "\t\t\t\t\t\ttweets.append(parsed_tweet) \n",
        "\t\t\t\telse: \n",
        "\t\t\t\t\ttweets.append(parsed_tweet) \n",
        "\n",
        "\t\t\t# return parsed tweets \n",
        "\t\t\treturn tweets \n",
        "\n",
        "\t\texcept tweepy.TweepError as e: \n",
        "\t\t\t# print error (if any) \n",
        "\t\t\tprint(\"Error : \" + str(e)) \n",
        "\t\t\t\n",
        "\n"
      ],
      "execution_count": 0,
      "outputs": []
    },
    {
      "cell_type": "code",
      "metadata": {
        "id": "wJlThOCUP3Oz",
        "colab_type": "code",
        "colab": {}
      },
      "source": [
        "def main(): \n",
        "\t# creating object of TwitterClient Class \n",
        "  api = TwitterClient() \n",
        "#   name = ['Donald Trump', 'Joe Biden', \"Beto O'Rourke\", 'Amy Klobuchar', 'Kamala Harris', 'Cory Booker']\n",
        "  name = ['@realDonaldTrump', '@JoeBiden', '@ewarren', '@BetoORourke', '@amyklobuchar','@KamalaHarris', '@PeteButtigieg', '@CoryBooker']\n",
        "  \n",
        "  for i in name:\n",
        "      # calling function to get tweets \n",
        "      tweets = api.get_tweets(query = i, count = 1500) \n",
        "      print(\"\\n\")\n",
        "      print(i) \n",
        "      # {0:.0f}%\".format(1/3 * 100)\n",
        "\n",
        "      # picking positive tweets from tweets \n",
        "      ptweets = [tweet for tweet in tweets if tweet['sentiment'] == 'positive'] \n",
        "      # percentage of positive tweets \n",
        "      print(\"Positive tweets percentage: {0:.1f} %\".format(100*len(ptweets)/len(tweets))) \n",
        "      print (f\"Number positive tweets:  {len(ptweets)}\")\n",
        "      # picking negative tweets from tweets \n",
        "      ntweets = [tweet for tweet in tweets if tweet['sentiment'] == 'negative'] \n",
        "\n",
        "      # percentage of negative tweets \n",
        "      print(\"Negative tweets percentage: {0:.1f} %\".format(100*len(ntweets)/len(tweets))) \n",
        "      print (f\"Number negative tweets:  {len(ntweets)}\")\n",
        "\n",
        "      # percentage of neutral tweets \n",
        "      print(\"Neutral tweets percentage: {0:.1f} %\".format(100*(len(tweets) - (len(ntweets + ptweets)))/len(tweets))) \n",
        "      print (f\"Number Neutral tweets:  {len(tweets) - (len(ntweets + ptweets))}\")\n",
        "      #     # printing first 5 positive tweets \n",
        "      #     print(\"\\n\\nPositive tweets:\") \n",
        "      #     for tweet in ptweets[:10]: \n",
        "      #       print(tweet['text']) \n",
        "\n",
        "      #     # printing first 5 negative tweets \n",
        "      #     print(\"\\n\\nNegative tweets:\") \n",
        "      #     for tweet in ntweets[:10]: \n",
        "      #       print(tweet['text']) \n",
        "\n"
      ],
      "execution_count": 0,
      "outputs": []
    },
    {
      "cell_type": "code",
      "metadata": {
        "id": "dp0mkqUqP3SH",
        "colab_type": "code",
        "outputId": "c40f0015-cd3d-4bd9-c6c9-f9bd0967a2b7",
        "colab": {
          "base_uri": "https://localhost:8080/",
          "height": 1000
        }
      },
      "source": [
        "\n",
        "if __name__ == \"__main__\": \n",
        "\t# calling main function \n",
        "\t\n",
        "  \n",
        "  main() "
      ],
      "execution_count": 57,
      "outputs": [
        {
          "output_type": "stream",
          "text": [
            "\n",
            "\n",
            "@realDonaldTrump\n",
            "Positive tweets percentage: 26.4 %\n",
            "Number positive tweets:  23\n",
            "Negative tweets percentage: 27.6 %\n",
            "Number negative tweets:  24\n",
            "Neutral tweets percentage: 46.0 %\n",
            "Number Neutral tweets:  40\n",
            "\n",
            "\n",
            "@JoeBiden\n",
            "Positive tweets percentage: 20.6 %\n",
            "Number positive tweets:  14\n",
            "Negative tweets percentage: 17.6 %\n",
            "Number negative tweets:  12\n",
            "Neutral tweets percentage: 61.8 %\n",
            "Number Neutral tweets:  42\n",
            "\n",
            "\n",
            "@ewarren\n",
            "Positive tweets percentage: 31.2 %\n",
            "Number positive tweets:  20\n",
            "Negative tweets percentage: 18.8 %\n",
            "Number negative tweets:  12\n",
            "Neutral tweets percentage: 50.0 %\n",
            "Number Neutral tweets:  32\n",
            "\n",
            "\n",
            "@BetoORourke\n",
            "Positive tweets percentage: 31.1 %\n",
            "Number positive tweets:  14\n",
            "Negative tweets percentage: 11.1 %\n",
            "Number negative tweets:  5\n",
            "Neutral tweets percentage: 57.8 %\n",
            "Number Neutral tweets:  26\n",
            "\n",
            "\n",
            "@amyklobuchar\n",
            "Positive tweets percentage: 20.4 %\n",
            "Number positive tweets:  10\n",
            "Negative tweets percentage: 20.4 %\n",
            "Number negative tweets:  10\n",
            "Neutral tweets percentage: 59.2 %\n",
            "Number Neutral tweets:  29\n",
            "\n",
            "\n",
            "@KamalaHarris\n",
            "Positive tweets percentage: 31.1 %\n",
            "Number positive tweets:  23\n",
            "Negative tweets percentage: 17.6 %\n",
            "Number negative tweets:  13\n",
            "Neutral tweets percentage: 51.4 %\n",
            "Number Neutral tweets:  38\n",
            "\n",
            "\n",
            "@PeteButtigieg\n",
            "Positive tweets percentage: 34.5 %\n",
            "Number positive tweets:  19\n",
            "Negative tweets percentage: 21.8 %\n",
            "Number negative tweets:  12\n",
            "Neutral tweets percentage: 43.6 %\n",
            "Number Neutral tweets:  24\n",
            "\n",
            "\n",
            "@CoryBooker\n",
            "Positive tweets percentage: 26.8 %\n",
            "Number positive tweets:  15\n",
            "Negative tweets percentage: 30.4 %\n",
            "Number negative tweets:  17\n",
            "Neutral tweets percentage: 42.9 %\n",
            "Number Neutral tweets:  24\n"
          ],
          "name": "stdout"
        }
      ]
    },
    {
      "cell_type": "code",
      "metadata": {
        "id": "-rsy781rP3VR",
        "colab_type": "code",
        "colab": {}
      },
      "source": [
        ""
      ],
      "execution_count": 0,
      "outputs": []
    },
    {
      "cell_type": "code",
      "metadata": {
        "id": "CoZ8UYmsP3Y5",
        "colab_type": "code",
        "colab": {}
      },
      "source": [
        ""
      ],
      "execution_count": 0,
      "outputs": []
    },
    {
      "cell_type": "code",
      "metadata": {
        "id": "sQ_q3zL6P3bt",
        "colab_type": "code",
        "colab": {}
      },
      "source": [
        ""
      ],
      "execution_count": 0,
      "outputs": []
    },
    {
      "cell_type": "code",
      "metadata": {
        "id": "KZvSeBMeP3eq",
        "colab_type": "code",
        "colab": {}
      },
      "source": [
        ""
      ],
      "execution_count": 0,
      "outputs": []
    },
    {
      "cell_type": "code",
      "metadata": {
        "id": "uVICIw15P3hz",
        "colab_type": "code",
        "colab": {}
      },
      "source": [
        ""
      ],
      "execution_count": 0,
      "outputs": []
    },
    {
      "cell_type": "code",
      "metadata": {
        "id": "1cFRQy2OP3lB",
        "colab_type": "code",
        "colab": {}
      },
      "source": [
        ""
      ],
      "execution_count": 0,
      "outputs": []
    },
    {
      "cell_type": "code",
      "metadata": {
        "id": "xZZu21h-P3oV",
        "colab_type": "code",
        "colab": {}
      },
      "source": [
        ""
      ],
      "execution_count": 0,
      "outputs": []
    },
    {
      "cell_type": "code",
      "metadata": {
        "id": "nEjdfaB5P3rP",
        "colab_type": "code",
        "colab": {}
      },
      "source": [
        ""
      ],
      "execution_count": 0,
      "outputs": []
    },
    {
      "cell_type": "code",
      "metadata": {
        "id": "aBrz2HqZP3xq",
        "colab_type": "code",
        "colab": {}
      },
      "source": [
        ""
      ],
      "execution_count": 0,
      "outputs": []
    },
    {
      "cell_type": "code",
      "metadata": {
        "id": "28ooMqdYP34B",
        "colab_type": "code",
        "colab": {}
      },
      "source": [
        ""
      ],
      "execution_count": 0,
      "outputs": []
    }
  ]
}